{
 "cells": [
  {
   "cell_type": "code",
   "execution_count": null,
   "metadata": {},
   "outputs": [],
   "source": [
    "#pip install chardet"
   ]
  },
  {
   "cell_type": "code",
   "execution_count": null,
   "metadata": {},
   "outputs": [],
   "source": [
    "#Обратите внимание, что этот код перезаписывает исходные файлы. \n",
    "#Если вам нужно сохранить исходные файлы без изменений, вам следует изменить путь в последнем блоке with, чтобы сохранить перекодированные файлы в другом месте.\n",
    "#pip install chardet\n",
    "import os\n",
    "import codecs\n",
    "import chardet\n",
    "\n",
    "folder_path = 'C:/English_level/1/'\n",
    "converted_folder_path = 'C:/English_level/Converted/'\n",
    "\n",
    "file_list = os.listdir(folder_path)\n",
    "\n",
    "for file in file_list:\n",
    "    # Открываем каждый файл с помощью угадывания кодировки\n",
    "    with open(folder_path + file, 'rb') as original_file:\n",
    "        rawdata = original_file.read()\n",
    "        result = chardet.detect(rawdata)\n",
    "        original_encoding = result['encoding']\n",
    "    \n",
    "    # Читаем файл в его оригинальной кодировке\n",
    "    with codecs.open(folder_path + file, 'r', encoding=original_encoding, errors='ignore') as f:\n",
    "        content = f.read()\n",
    "\n",
    "    # Перезаписываем файл в кодировке latin-1, сохраняя его в новую папку\n",
    "    with codecs.open(converted_folder_path + file, 'w', encoding='latin-1', errors='ignore') as f:\n",
    "        f.write(content)"
   ]
  }
 ],
 "metadata": {
  "language_info": {
   "name": "python"
  },
  "orig_nbformat": 4
 },
 "nbformat": 4,
 "nbformat_minor": 2
}
